{
 "cells": [
  {
   "cell_type": "markdown",
   "id": "e4b50051",
   "metadata": {},
   "source": [
    "The purpose of this notebook is to explore the TCGA TARGET GTEX gene expression dataset."
   ]
  },
  {
   "cell_type": "markdown",
   "id": "e6b6ddc0",
   "metadata": {},
   "source": [
    "# Librairies"
   ]
  },
  {
   "cell_type": "code",
   "execution_count": 1,
   "id": "df55dce7",
   "metadata": {},
   "outputs": [
    {
     "name": "stderr",
     "output_type": "stream",
     "text": [
      "/projects/GraphNEx/anaconda3/envs/GraphNEx/lib/python3.7/site-packages/tqdm/auto.py:22: TqdmWarning: IProgress not found. Please update jupyter and ipywidgets. See https://ipywidgets.readthedocs.io/en/stable/user_install.html\n",
      "  from .autonotebook import tqdm as notebook_tqdm\n"
     ]
    }
   ],
   "source": [
    "import os\n",
    "import sys\n",
    "code_path = os.path.split(os.path.split(os.getcwd())[0])[0]\n",
    "sys.path.append(code_path)\n",
    "\n",
    "import json\n",
    "import statsmodels.api as sm\n",
    "from setting import *\n",
    "from download_data import *\n",
    "from dataset import *\n",
    "from plots_and_stats import *\n",
    "from utils import *\n",
    "from loader import *\n",
    "\n",
    "set_pyplot()"
   ]
  },
  {
   "cell_type": "markdown",
   "id": "4e796759",
   "metadata": {},
   "source": [
    "# Path"
   ]
  },
  {
   "cell_type": "code",
   "execution_count": 2,
   "id": "5d33dc9e",
   "metadata": {},
   "outputs": [],
   "source": [
    "name = 'ttg-all'  # ttg-all, ttg-breast\n",
    "database = 'ttg'\n",
    "save_path = get_save_path(name, code_path)\n",
    "data_path = get_data_path(name)"
   ]
  },
  {
   "cell_type": "markdown",
   "id": "5e5a7e74",
   "metadata": {},
   "source": [
    "# Dataset"
   ]
  },
  {
   "cell_type": "code",
   "execution_count": 3,
   "id": "9afd7361",
   "metadata": {},
   "outputs": [
    {
     "ename": "KeyboardInterrupt",
     "evalue": "",
     "output_type": "error",
     "traceback": [
      "\u001b[0;31m---------------------------------------------------------------------------\u001b[0m",
      "\u001b[0;31mKeyboardInterrupt\u001b[0m                         Traceback (most recent call last)",
      "\u001b[0;32m/tmp/ipykernel_1352061/4000314439.py\u001b[0m in \u001b[0;36m<module>\u001b[0;34m\u001b[0m\n\u001b[0;32m----> 1\u001b[0;31m \u001b[0mX\u001b[0m\u001b[0;34m,\u001b[0m \u001b[0my\u001b[0m\u001b[0;34m,\u001b[0m \u001b[0mclass_name\u001b[0m\u001b[0;34m,\u001b[0m \u001b[0mfeat_name\u001b[0m \u001b[0;34m=\u001b[0m \u001b[0mload_data\u001b[0m\u001b[0;34m(\u001b[0m\u001b[0mdata_path\u001b[0m\u001b[0;34m,\u001b[0m \u001b[0mname\u001b[0m\u001b[0;34m)\u001b[0m\u001b[0;34m\u001b[0m\u001b[0;34m\u001b[0m\u001b[0m\n\u001b[0m",
      "\u001b[0;32m/projects/GraphNEx/xai/XAI_in_progress/loader.py\u001b[0m in \u001b[0;36mload_data\u001b[0;34m(data_path, name)\u001b[0m\n\u001b[1;32m    175\u001b[0m     \u001b[0;32mif\u001b[0m \u001b[0mname\u001b[0m \u001b[0;32min\u001b[0m \u001b[0;34m[\u001b[0m\u001b[0;34m\"pancan\"\u001b[0m\u001b[0;34m,\u001b[0m \u001b[0;34m\"BRCA\"\u001b[0m\u001b[0;34m,\u001b[0m \u001b[0;34m\"KIRC\"\u001b[0m\u001b[0;34m,\u001b[0m \u001b[0;34m\"ttg-all\"\u001b[0m\u001b[0;34m,\u001b[0m \u001b[0;34m\"ttg-breast\"\u001b[0m\u001b[0;34m,\u001b[0m \u001b[0;34m\"BRCA-pam\"\u001b[0m\u001b[0;34m]\u001b[0m\u001b[0;34m:\u001b[0m\u001b[0;34m\u001b[0m\u001b[0;34m\u001b[0m\u001b[0m\n\u001b[1;32m    176\u001b[0m         \u001b[0mdatabase\u001b[0m\u001b[0;34m,\u001b[0m \u001b[0mname\u001b[0m\u001b[0;34m,\u001b[0m \u001b[0mlabel_name\u001b[0m \u001b[0;34m=\u001b[0m \u001b[0mget_TCGA_setting\u001b[0m\u001b[0;34m(\u001b[0m\u001b[0mname\u001b[0m\u001b[0;34m)\u001b[0m\u001b[0;34m\u001b[0m\u001b[0;34m\u001b[0m\u001b[0m\n\u001b[0;32m--> 177\u001b[0;31m         \u001b[0mdata\u001b[0m \u001b[0;34m=\u001b[0m \u001b[0mTCGA_dataset\u001b[0m\u001b[0;34m(\u001b[0m\u001b[0mdata_path\u001b[0m\u001b[0;34m,\u001b[0m \u001b[0mdatabase\u001b[0m\u001b[0;34m,\u001b[0m \u001b[0mname\u001b[0m\u001b[0;34m,\u001b[0m \u001b[0mlabel_name\u001b[0m\u001b[0;34m)\u001b[0m\u001b[0;34m\u001b[0m\u001b[0;34m\u001b[0m\u001b[0m\n\u001b[0m\u001b[1;32m    178\u001b[0m         \u001b[0mX\u001b[0m \u001b[0;34m=\u001b[0m \u001b[0mnp\u001b[0m\u001b[0;34m.\u001b[0m\u001b[0mzeros\u001b[0m\u001b[0;34m(\u001b[0m\u001b[0;34m(\u001b[0m\u001b[0mlen\u001b[0m\u001b[0;34m(\u001b[0m\u001b[0mdata\u001b[0m\u001b[0;34m)\u001b[0m\u001b[0;34m,\u001b[0m \u001b[0mget_number_features\u001b[0m\u001b[0;34m(\u001b[0m\u001b[0mdata\u001b[0m\u001b[0;34m)\u001b[0m\u001b[0;34m)\u001b[0m\u001b[0;34m)\u001b[0m\u001b[0;34m\u001b[0m\u001b[0;34m\u001b[0m\u001b[0m\n\u001b[1;32m    179\u001b[0m         \u001b[0my\u001b[0m \u001b[0;34m=\u001b[0m \u001b[0mnp\u001b[0m\u001b[0;34m.\u001b[0m\u001b[0mzeros\u001b[0m\u001b[0;34m(\u001b[0m\u001b[0;34m(\u001b[0m\u001b[0mlen\u001b[0m\u001b[0;34m(\u001b[0m\u001b[0mdata\u001b[0m\u001b[0;34m)\u001b[0m\u001b[0;34m)\u001b[0m\u001b[0;34m)\u001b[0m\u001b[0;34m.\u001b[0m\u001b[0mastype\u001b[0m\u001b[0;34m(\u001b[0m\u001b[0;34m'int64'\u001b[0m\u001b[0;34m)\u001b[0m\u001b[0;34m\u001b[0m\u001b[0;34m\u001b[0m\u001b[0m\n",
      "\u001b[0;32m/projects/GraphNEx/xai/XAI_in_progress/dataset.py\u001b[0m in \u001b[0;36m__init__\u001b[0;34m(self, data_path, database, cancer, label_name)\u001b[0m\n\u001b[1;32m    196\u001b[0m         \u001b[0;31m# Gene expression\u001b[0m\u001b[0;34m\u001b[0m\u001b[0;34m\u001b[0m\u001b[0;34m\u001b[0m\u001b[0m\n\u001b[1;32m    197\u001b[0m         \u001b[0;31m# Load\u001b[0m\u001b[0;34m\u001b[0m\u001b[0;34m\u001b[0m\u001b[0;34m\u001b[0m\u001b[0m\n\u001b[0;32m--> 198\u001b[0;31m         \u001b[0mself\u001b[0m\u001b[0;34m.\u001b[0m\u001b[0mexpression\u001b[0m \u001b[0;34m=\u001b[0m \u001b[0mload_expression\u001b[0m\u001b[0;34m(\u001b[0m\u001b[0mdata_path\u001b[0m\u001b[0;34m,\u001b[0m \u001b[0mdatabase\u001b[0m\u001b[0;34m,\u001b[0m \u001b[0mcancer\u001b[0m\u001b[0;34m)\u001b[0m\u001b[0;34m\u001b[0m\u001b[0;34m\u001b[0m\u001b[0m\n\u001b[0m\u001b[1;32m    199\u001b[0m \u001b[0;34m\u001b[0m\u001b[0m\n\u001b[1;32m    200\u001b[0m         \u001b[0;31m# Extract the IDs of the samples (corresponding to individuals)\u001b[0m\u001b[0;34m\u001b[0m\u001b[0;34m\u001b[0m\u001b[0;34m\u001b[0m\u001b[0m\n",
      "\u001b[0;32m/projects/GraphNEx/xai/XAI_in_progress/dataset.py\u001b[0m in \u001b[0;36mload_expression\u001b[0;34m(data_path, database, cancer)\u001b[0m\n\u001b[1;32m    122\u001b[0m             \u001b[0mdf\u001b[0m \u001b[0;34m=\u001b[0m \u001b[0mpd\u001b[0m\u001b[0;34m.\u001b[0m\u001b[0mread_csv\u001b[0m\u001b[0;34m(\u001b[0m\u001b[0mos\u001b[0m\u001b[0;34m.\u001b[0m\u001b[0mpath\u001b[0m\u001b[0;34m.\u001b[0m\u001b[0mjoin\u001b[0m\u001b[0;34m(\u001b[0m\u001b[0mdata_path\u001b[0m\u001b[0;34m,\u001b[0m \u001b[0mdatabase\u001b[0m\u001b[0;34m,\u001b[0m \u001b[0;34m'expression'\u001b[0m\u001b[0;34m,\u001b[0m \u001b[0;34m'{}_counts.tsv.gz'\u001b[0m\u001b[0;34m.\u001b[0m\u001b[0mformat\u001b[0m\u001b[0;34m(\u001b[0m\u001b[0;34m'all'\u001b[0m\u001b[0;34m)\u001b[0m\u001b[0;34m)\u001b[0m\u001b[0;34m,\u001b[0m \u001b[0mcompression\u001b[0m\u001b[0;34m=\u001b[0m\u001b[0;34m\"gzip\"\u001b[0m\u001b[0;34m,\u001b[0m \u001b[0msep\u001b[0m\u001b[0;34m=\u001b[0m\u001b[0;34m\"\\t\"\u001b[0m\u001b[0;34m,\u001b[0m \u001b[0mindex_col\u001b[0m\u001b[0;34m=\u001b[0m\u001b[0mcolumn_name\u001b[0m\u001b[0;34m)\u001b[0m\u001b[0;34m\u001b[0m\u001b[0;34m\u001b[0m\u001b[0m\n\u001b[1;32m    123\u001b[0m             \u001b[0mdf\u001b[0m\u001b[0;34m.\u001b[0m\u001b[0mto_pickle\u001b[0m\u001b[0;34m(\u001b[0m\u001b[0mfile_path\u001b[0m\u001b[0;34m)\u001b[0m\u001b[0;34m\u001b[0m\u001b[0;34m\u001b[0m\u001b[0m\n\u001b[0;32m--> 124\u001b[0;31m         \u001b[0mdf\u001b[0m \u001b[0;34m=\u001b[0m \u001b[0mpd\u001b[0m\u001b[0;34m.\u001b[0m\u001b[0mread_pickle\u001b[0m\u001b[0;34m(\u001b[0m\u001b[0mfile_path\u001b[0m\u001b[0;34m)\u001b[0m\u001b[0;34m\u001b[0m\u001b[0;34m\u001b[0m\u001b[0m\n\u001b[0m\u001b[1;32m    125\u001b[0m     \u001b[0;32melse\u001b[0m\u001b[0;34m:\u001b[0m\u001b[0;34m\u001b[0m\u001b[0;34m\u001b[0m\u001b[0m\n\u001b[1;32m    126\u001b[0m         \u001b[0mfile_path\u001b[0m \u001b[0;34m=\u001b[0m \u001b[0mos\u001b[0m\u001b[0;34m.\u001b[0m\u001b[0mpath\u001b[0m\u001b[0;34m.\u001b[0m\u001b[0mjoin\u001b[0m\u001b[0;34m(\u001b[0m\u001b[0mdata_path\u001b[0m\u001b[0;34m,\u001b[0m \u001b[0mdatabase\u001b[0m\u001b[0;34m,\u001b[0m \u001b[0;34m'expression'\u001b[0m\u001b[0;34m,\u001b[0m \u001b[0;34m'{}_counts.tsv.gz'\u001b[0m\u001b[0;34m.\u001b[0m\u001b[0mformat\u001b[0m\u001b[0;34m(\u001b[0m\u001b[0mcancer\u001b[0m\u001b[0;34m)\u001b[0m\u001b[0;34m)\u001b[0m\u001b[0;34m\u001b[0m\u001b[0;34m\u001b[0m\u001b[0m\n",
      "\u001b[0;32m/projects/GraphNEx/anaconda3/envs/GraphNEx/lib/python3.7/site-packages/pandas/io/pickle.py\u001b[0m in \u001b[0;36mread_pickle\u001b[0;34m(filepath_or_buffer, compression, storage_options)\u001b[0m\n\u001b[1;32m    215\u001b[0m                     \u001b[0;31m# RawIOBase, BufferedIOBase, TextIOBase, TextIOWrapper, mmap]\";\u001b[0m\u001b[0;34m\u001b[0m\u001b[0;34m\u001b[0m\u001b[0;34m\u001b[0m\u001b[0m\n\u001b[1;32m    216\u001b[0m                     \u001b[0;31m# expected \"IO[bytes]\"\u001b[0m\u001b[0;34m\u001b[0m\u001b[0;34m\u001b[0m\u001b[0;34m\u001b[0m\u001b[0m\n\u001b[0;32m--> 217\u001b[0;31m                     \u001b[0;32mreturn\u001b[0m \u001b[0mpickle\u001b[0m\u001b[0;34m.\u001b[0m\u001b[0mload\u001b[0m\u001b[0;34m(\u001b[0m\u001b[0mhandles\u001b[0m\u001b[0;34m.\u001b[0m\u001b[0mhandle\u001b[0m\u001b[0;34m)\u001b[0m  \u001b[0;31m# type: ignore[arg-type]\u001b[0m\u001b[0;34m\u001b[0m\u001b[0;34m\u001b[0m\u001b[0m\n\u001b[0m\u001b[1;32m    218\u001b[0m             \u001b[0;32mexcept\u001b[0m \u001b[0mexcs_to_catch\u001b[0m\u001b[0;34m:\u001b[0m\u001b[0;34m\u001b[0m\u001b[0;34m\u001b[0m\u001b[0m\n\u001b[1;32m    219\u001b[0m                 \u001b[0;31m# e.g.\u001b[0m\u001b[0;34m\u001b[0m\u001b[0;34m\u001b[0m\u001b[0;34m\u001b[0m\u001b[0m\n",
      "\u001b[0;32m/projects/GraphNEx/anaconda3/envs/GraphNEx/lib/python3.7/site-packages/pandas/core/internals/blocks.py\u001b[0m in \u001b[0;36mnew_block\u001b[0;34m(values, placement, ndim, klass)\u001b[0m\n\u001b[1;32m   1929\u001b[0m \u001b[0;34m\u001b[0m\u001b[0m\n\u001b[1;32m   1930\u001b[0m \u001b[0;34m\u001b[0m\u001b[0m\n\u001b[0;32m-> 1931\u001b[0;31m \u001b[0;32mdef\u001b[0m \u001b[0mnew_block\u001b[0m\u001b[0;34m(\u001b[0m\u001b[0mvalues\u001b[0m\u001b[0;34m,\u001b[0m \u001b[0mplacement\u001b[0m\u001b[0;34m,\u001b[0m \u001b[0;34m*\u001b[0m\u001b[0;34m,\u001b[0m \u001b[0mndim\u001b[0m\u001b[0;34m:\u001b[0m \u001b[0mint\u001b[0m\u001b[0;34m,\u001b[0m \u001b[0mklass\u001b[0m\u001b[0;34m=\u001b[0m\u001b[0;32mNone\u001b[0m\u001b[0;34m)\u001b[0m \u001b[0;34m->\u001b[0m \u001b[0mBlock\u001b[0m\u001b[0;34m:\u001b[0m\u001b[0;34m\u001b[0m\u001b[0;34m\u001b[0m\u001b[0m\n\u001b[0m\u001b[1;32m   1932\u001b[0m \u001b[0;34m\u001b[0m\u001b[0m\n\u001b[1;32m   1933\u001b[0m     \u001b[0;32mif\u001b[0m \u001b[0;32mnot\u001b[0m \u001b[0misinstance\u001b[0m\u001b[0;34m(\u001b[0m\u001b[0mplacement\u001b[0m\u001b[0;34m,\u001b[0m \u001b[0mBlockPlacement\u001b[0m\u001b[0;34m)\u001b[0m\u001b[0;34m:\u001b[0m\u001b[0;34m\u001b[0m\u001b[0;34m\u001b[0m\u001b[0m\n",
      "\u001b[0;31mKeyboardInterrupt\u001b[0m: "
     ]
    }
   ],
   "source": [
    "X, y, class_name, feat_name = load_data(data_path, name)"
   ]
  },
  {
   "cell_type": "markdown",
   "id": "5014fbf6",
   "metadata": {},
   "source": [
    "# What is the unit used for the gene expression?"
   ]
  },
  {
   "cell_type": "markdown",
   "id": "3483d7ff",
   "metadata": {},
   "source": [
    "It is log2(count_uq+1). norm_count is the RSEM count normalized by the upper quartile method. It is mentioned [here](https://xenabrowser.net/datapages/?dataset=TcgaTargetGtex_RSEM_Hugo_norm_count&host=https%3A%2F%2Ftoil.xenahubs.net&removeHub=https%3A%2F%2Fxena.treehouse.gi.ucsc.edu%3A443) and [here](https://ucsc-xena.gitbook.io/project/how-do-i/tumor-vs-normal)."
   ]
  },
  {
   "cell_type": "code",
   "execution_count": null,
   "id": "8b0a86af",
   "metadata": {},
   "outputs": [],
   "source": [
    "print(\"Minimal value in the dataset:\", np.min(X))\n",
    "print(\"Maximal value in the dataset:\", np.round(np.max(X), 2))"
   ]
  },
  {
   "cell_type": "code",
   "execution_count": null,
   "id": "c1c9e66b",
   "metadata": {},
   "outputs": [],
   "source": [
    "# The percentile is centered around 100 with all genes. \n",
    "# Here, as some genes have been removed during preprocessing, it is lower.\n",
    "# percentile = np.percentile(2**X - 1, 75, axis=1)\n",
    "# plt.figure(figsize=(15, 4))\n",
    "# plt.boxplot(percentile, vert=False)\n",
    "# plt.yticks(color='w')\n",
    "# plt.xlabel('75th percentile (a point = an individual sample)')\n",
    "# plt.show()"
   ]
  },
  {
   "cell_type": "markdown",
   "id": "b7c0b011",
   "metadata": {},
   "source": [
    "# Visualisation"
   ]
  },
  {
   "cell_type": "markdown",
   "id": "6dda3d79",
   "metadata": {},
   "source": [
    "### Samples"
   ]
  },
  {
   "cell_type": "code",
   "execution_count": null,
   "id": "ed2b534e",
   "metadata": {},
   "outputs": [],
   "source": [
    "unit = 'log2(count_uq+1)'\n",
    "plot_sum_of_features_for_each_sample(2**X - 1)"
   ]
  },
  {
   "cell_type": "markdown",
   "id": "104a4254",
   "metadata": {},
   "source": [
    "The normalized raw counts are between $0.1 \\times 10^8$ and $6.1 \\times 10^8$. \n",
    "\n",
    "Here are the range of values taken by some individuals."
   ]
  },
  {
   "cell_type": "code",
   "execution_count": null,
   "id": "e01365e2",
   "metadata": {},
   "outputs": [],
   "source": [
    "ylabel = f'Gene expression\\n({unit})'\n",
    "describe_random_individuals(X, ylabel)"
   ]
  },
  {
   "cell_type": "markdown",
   "id": "892d810a",
   "metadata": {},
   "source": [
    "# Distribution of the values of gene expression"
   ]
  },
  {
   "cell_type": "code",
   "execution_count": null,
   "id": "cd43a7cf",
   "metadata": {
    "scrolled": false
   },
   "outputs": [],
   "source": [
    "describe_gene_expression(2**X - 1, log_scale=False)"
   ]
  },
  {
   "cell_type": "code",
   "execution_count": null,
   "id": "loose-value",
   "metadata": {},
   "outputs": [],
   "source": [
    "# criteria = 'average', 'median', 'std', 'min', 'max'\n",
    "plot_stats_on_gene_expression(2**X - 1, criteria='average')"
   ]
  },
  {
   "cell_type": "code",
   "execution_count": null,
   "id": "f770528e",
   "metadata": {},
   "outputs": [],
   "source": [
    "plot_stats_on_gene_expression(2**X - 1, criteria='median')"
   ]
  },
  {
   "cell_type": "code",
   "execution_count": null,
   "id": "5a2e1d62",
   "metadata": {},
   "outputs": [],
   "source": [
    "plot_stats_on_gene_expression(2**X - 1, criteria='max')"
   ]
  },
  {
   "cell_type": "code",
   "execution_count": null,
   "id": "0f7aef8c",
   "metadata": {},
   "outputs": [],
   "source": [
    "plot_stats_on_gene_expression(X, criteria='average')"
   ]
  },
  {
   "cell_type": "markdown",
   "id": "fb371dac",
   "metadata": {},
   "source": [
    "Some genes have very high medians. They are often very active. Some genes have low medians. They are often expressed very weakly."
   ]
  },
  {
   "cell_type": "code",
   "execution_count": null,
   "id": "second-checklist",
   "metadata": {},
   "outputs": [],
   "source": [
    "ordered_genes = sort_genes(X, criteria='max') # 'average', 'median', 'std', 'min', 'max'"
   ]
  },
  {
   "cell_type": "code",
   "execution_count": null,
   "id": "51c7ec7b",
   "metadata": {},
   "outputs": [],
   "source": [
    "gene = 4\n",
    "sm.qqplot(X[:, gene], line ='45')\n",
    "plt.show()"
   ]
  },
  {
   "cell_type": "markdown",
   "id": "9b6112f8",
   "metadata": {},
   "source": [
    "# Analysis by class"
   ]
  },
  {
   "cell_type": "code",
   "execution_count": null,
   "id": "f024a769",
   "metadata": {},
   "outputs": [],
   "source": [
    "plot_random_gene_expression(X, y, feat_name, class_name, group_by_classes=False, gene_index=164)"
   ]
  },
  {
   "cell_type": "code",
   "execution_count": null,
   "id": "norman-pendant",
   "metadata": {},
   "outputs": [],
   "source": [
    "plot_random_gene_expression(X, y, feat_name, class_name, group_by_classes=True, gene_index=164)"
   ]
  },
  {
   "cell_type": "code",
   "execution_count": null,
   "id": "6793c553",
   "metadata": {},
   "outputs": [],
   "source": [
    "gene = 4\n",
    "plt.figure(figsize=(20, 2))\n",
    "sns.histplot(X[y==0, gene], binwidth=0.5, stat=\"proportion\")\n",
    "sns.histplot(X[y==1, gene], binwidth=0.5, stat=\"proportion\", color='green')\n",
    "plt.xlabel(f\"Values taken by {feat_name[gene]}\")\n",
    "plt.ylabel(\"Proportion\\nof samples\")\n",
    "plt.show()"
   ]
  },
  {
   "cell_type": "code",
   "execution_count": null,
   "id": "96bc992b",
   "metadata": {},
   "outputs": [],
   "source": [
    "# Code to find the index of a gene from its name.\n",
    "# np.argwhere(np.array(feat_name) == 'RP11-190A12.7')"
   ]
  },
  {
   "cell_type": "markdown",
   "id": "7bef9778",
   "metadata": {},
   "source": [
    "# Analysis by sample"
   ]
  },
  {
   "cell_type": "code",
   "execution_count": null,
   "id": "bf295936",
   "metadata": {},
   "outputs": [],
   "source": [
    "plot_random_sample_expression(X, index=27)"
   ]
  },
  {
   "cell_type": "code",
   "execution_count": null,
   "id": "e02340f2",
   "metadata": {},
   "outputs": [],
   "source": [
    "plot_random_sample_expression(X, index=31)"
   ]
  },
  {
   "cell_type": "code",
   "execution_count": null,
   "id": "4c30a1b4",
   "metadata": {},
   "outputs": [],
   "source": []
  },
  {
   "cell_type": "code",
   "execution_count": null,
   "id": "4e89a747",
   "metadata": {},
   "outputs": [],
   "source": []
  }
 ],
 "metadata": {
  "kernelspec": {
   "display_name": "GraphNEx",
   "language": "python",
   "name": "graphnex"
  },
  "language_info": {
   "codemirror_mode": {
    "name": "ipython",
    "version": 3
   },
   "file_extension": ".py",
   "mimetype": "text/x-python",
   "name": "python",
   "nbconvert_exporter": "python",
   "pygments_lexer": "ipython3",
   "version": "3.7.11"
  }
 },
 "nbformat": 4,
 "nbformat_minor": 5
}
