{
 "cells": [
  {
   "cell_type": "code",
   "execution_count": 1,
   "id": "4c39f187",
   "metadata": {},
   "outputs": [
    {
     "name": "stderr",
     "output_type": "stream",
     "text": [
      "/projects/GraphNEx/anaconda3/envs/GraphNEx/lib/python3.7/site-packages/tqdm/auto.py:22: TqdmWarning: IProgress not found. Please update jupyter and ipywidgets. See https://ipywidgets.readthedocs.io/en/stable/user_install.html\n",
      "  from .autonotebook import tqdm as notebook_tqdm\n"
     ]
    }
   ],
   "source": [
    "# Librairies\n",
    "import os\n",
    "import sys\n",
    "code_path = os.path.split(os.getcwd())[0]\n",
    "sys.path.append(code_path)\n",
    "import numpy as np\n",
    "from joblib import load\n",
    "from setting import *\n",
    "from loader import *\n",
    "from models import load_model\n",
    "from graphs import *\n",
    "from utils import *\n",
    "from plots_and_stats import *\n",
    "from clustering import *\n",
    "from XAI_method import *\n",
    "from XAI_interpret import prediction_gap_for_an_example, get_features_order\n",
    "device = torch.device(\"cuda:0\" if torch.cuda.is_available() else \"cpu\")"
   ]
  },
  {
   "cell_type": "code",
   "execution_count": 2,
   "id": "6ddb0b62",
   "metadata": {},
   "outputs": [],
   "source": [
    "# Arguments\n",
    "name = \"pancan\"\n",
    "model_name = 'GCN'\n",
    "set_name = 'train'\n",
    "exp = 1\n",
    "gap = 1\n",
    "XAI_method = \"Integrated_Gradients\""
   ]
  },
  {
   "cell_type": "code",
   "execution_count": 3,
   "id": "d2e51365",
   "metadata": {},
   "outputs": [],
   "source": [
    "# Path\n",
    "save_path = get_save_path(name, code_path)\n",
    "data_path = get_data_path(name)\n",
    "save_name = os.path.join(save_path, model_name, f\"exp_{exp}\")"
   ]
  },
  {
   "cell_type": "code",
   "execution_count": 4,
   "id": "d6ef48e6",
   "metadata": {},
   "outputs": [],
   "source": [
    "# Seed\n",
    "random.seed(exp)\n",
    "np.random.seed(exp)\n",
    "torch.manual_seed(exp)\n",
    "if device == 'cuda':\n",
    "    torch.cuda.manual_seed_all(exp)\n",
    "    "
   ]
  },
  {
   "cell_type": "code",
   "execution_count": 5,
   "id": "a902fa15",
   "metadata": {},
   "outputs": [
    {
     "name": "stdout",
     "output_type": "stream",
     "text": [
      "934 weakly expressed genes are removed of the dataset.\n"
     ]
    }
   ],
   "source": [
    "# Load a dataset\n",
    "train_loader, test_loader, n_class, n_feat, class_name, feat_name, transform, n_sample = load_dataloader(data_path, name, device)\n",
    "feat_name = np.array(feat_name)\n"
   ]
  },
  {
   "cell_type": "code",
   "execution_count": 6,
   "id": "db1e7436",
   "metadata": {},
   "outputs": [
    {
     "name": "stdout",
     "output_type": "stream",
     "text": [
      "Number of clusters at layer 1 14685\n"
     ]
    },
    {
     "data": {
      "text/plain": [
       "GCN(\n",
       "  (layers): Sequential(\n",
       "    (0): GCNConv(1, 2)\n",
       "    (1): get_batch_cluster()\n",
       "    (2): <function _max_pool_x at 0x7f834aaa6290>\n",
       "    (3): ReLU()\n",
       "  )\n",
       "  (fc): Linear(in_features=29370, out_features=33, bias=True)\n",
       ")"
      ]
     },
     "execution_count": 6,
     "metadata": {},
     "output_type": "execute_result"
    }
   ],
   "source": [
    "# Load a model\n",
    "softmax = True\n",
    "n_layer, n_hidden_feat, graph_name = get_hyperparameters(name, model_name)\n",
    "model = load_model(model_name, n_feat, n_class, softmax, device, save_path, n_layer, \n",
    "                   n_hidden_feat, graph_name)\n",
    "checkpoint = torch.load(os.path.join(save_path, save_name, 'checkpoint.pt'))\n",
    "model.load_state_dict(checkpoint['state_dict'])\n",
    "model.eval()\n",
    "    "
   ]
  },
  {
   "cell_type": "code",
   "execution_count": 7,
   "id": "133c6610",
   "metadata": {},
   "outputs": [],
   "source": [
    "# Explainability scores\n",
    "attr, y_pred, y_true, _, _, baseline, baseline_pred = load_attributions(XAI_method, \n",
    "                                                                            os.path.join(save_path, \n",
    "                                                                                         save_name,\n",
    "                                                                                         XAI_method),\n",
    "                                                                            set_name=set_name)\n",
    "attr = transform_data(attr, transform='divide_by_norm')"
   ]
  },
  {
   "cell_type": "code",
   "execution_count": 8,
   "id": "d3c4a253",
   "metadata": {},
   "outputs": [],
   "source": [
    "# Baseline\n",
    "base_class, studied_class = get_XAI_hyperparameters(name, n_class)\n",
    "baseline = torch.tensor(baseline).to(torch.float32).to(device)\n",
    "default_output = model(baseline).detach().cpu().numpy()"
   ]
  },
  {
   "cell_type": "code",
   "execution_count": 9,
   "id": "40aab216",
   "metadata": {},
   "outputs": [],
   "source": [
    "# Keep only studied examples  \n",
    "data_loader = train_loader if set_name == \"train\" else test_loader\n",
    "n_sample = 0\n",
    "for x, y in data_loader:\n",
    "    n_sample += x.shape[0]\n",
    "X = np.zeros((n_sample, x.shape[1]), dtype=\"float32\")\n",
    "y = np.zeros((n_sample), dtype=\"int32\")\n",
    "n = 0\n",
    "torch.manual_seed(1)\n",
    "for x, label in data_loader:\n",
    "    x = x.to(device)\n",
    "    X[n:n+x.shape[0]] = transform(x).cpu().numpy()\n",
    "    y[n:n+x.shape[0]] = label.cpu().numpy().astype(\"int32\")\n",
    "    n += x.shape[0]\n",
    "transform = None\n",
    "X = X[sum(y == c for c in studied_class).astype(bool)]\n",
    "y = y[sum(y == c for c in studied_class).astype(bool)]\n",
    "\n",
    "\n",
    "# Keep only correctly classified examples\n",
    "indices = np.argwhere(y_pred == y_true).reshape(-1)\n",
    "attr = attr[indices]\n",
    "y_pred = y_pred[indices]\n",
    "X = X[indices]\n",
    "y = y[indices]\n"
   ]
  },
  {
   "cell_type": "markdown",
   "id": "f12841b1",
   "metadata": {},
   "source": [
    "# Show metrics"
   ]
  },
  {
   "cell_type": "code",
   "execution_count": 10,
   "id": "7d8b4864",
   "metadata": {},
   "outputs": [],
   "source": [
    "rand_ex = random.randint(0, X.shape[0] - 1)"
   ]
  },
  {
   "cell_type": "markdown",
   "id": "92d96dcf",
   "metadata": {},
   "source": [
    "### Local rankings"
   ]
  },
  {
   "cell_type": "code",
   "execution_count": 11,
   "id": "15d8cede",
   "metadata": {},
   "outputs": [
    {
     "name": "stdout",
     "output_type": "stream",
     "text": [
      "models\n",
      "models\n"
     ]
    }
   ],
   "source": [
    "local_ordering = np.argsort(-np.abs(attr[rand_ex]).reshape(1, -1), axis=1)\n",
    "example = torch.tensor(X[rand_ex].copy().reshape(1, -1), dtype=torch.float32)\n",
    "PGI_l, curve_PGI_l = prediction_gap_for_an_example(model, example, \n",
    "                                          y[rand_ex], n_class, transform, gap, \n",
    "                                          baseline, local_ordering)\n",
    "\n",
    "\n",
    "\n",
    "local_ordering = np.argsort(np.abs(attr[rand_ex]).reshape(1, -1), axis=1)\n",
    "example = torch.tensor(X[rand_ex].copy().reshape(1, -1), dtype=torch.float32)\n",
    "PGU_l, curve_PGU_l = prediction_gap_for_an_example(model, example, \n",
    "                                          y[rand_ex], n_class, transform, gap, \n",
    "                                          baseline, local_ordering)\n",
    "    "
   ]
  },
  {
   "cell_type": "markdown",
   "id": "585baf2f",
   "metadata": {},
   "source": [
    "### Global rankings"
   ]
  },
  {
   "cell_type": "code",
   "execution_count": 12,
   "id": "4c3c4a0f",
   "metadata": {},
   "outputs": [],
   "source": [
    "ordered_feat_name = np.load(os.path.join(save_path, \"order\", f\"order_IG_{model_name}_set_train_exp_{exp}.npy\"), allow_pickle=True)\n",
    "ordered_indices = np.array([np.argwhere(feat == feat_name)[0] for feat in ordered_feat_name]).reshape(-1)\n"
   ]
  },
  {
   "cell_type": "code",
   "execution_count": 13,
   "id": "3777245e",
   "metadata": {},
   "outputs": [
    {
     "data": {
      "text/plain": [
       "tensor([[0., 0., 0.,  ..., 0., 0., 0.]], device='cuda:0')"
      ]
     },
     "execution_count": 13,
     "metadata": {},
     "output_type": "execute_result"
    }
   ],
   "source": [
    "baseline"
   ]
  },
  {
   "cell_type": "code",
   "execution_count": 14,
   "id": "88fc3110",
   "metadata": {},
   "outputs": [
    {
     "name": "stdout",
     "output_type": "stream",
     "text": [
      "models\n",
      "models\n"
     ]
    }
   ],
   "source": [
    "# global_ordering = get_features_order(attr, _type=\"sum_decreasing\").reshape(1, -1)\n",
    "global_ordering = ordered_indices.copy().reshape(1, -1)\n",
    "example = torch.tensor(X[rand_ex].copy().reshape(1, -1), dtype=torch.float32)\n",
    "PGI_g, curve_PGI_g = prediction_gap_for_an_example(model, example, y[rand_ex], n_class, transform, gap, \n",
    "                                          baseline, global_ordering)\n",
    "\n",
    "# global_ordering = get_features_order(attr, _type=\"sum_increasing\").reshape(1, -1)\n",
    "global_ordering = np.flip(ordered_indices.copy()).copy().reshape(1, -1)\n",
    "example = torch.tensor(X[rand_ex].copy().reshape(1, -1), dtype=torch.float32)\n",
    "PGU_g, curve_PGU_g = prediction_gap_for_an_example(model, example, y[rand_ex], n_class, transform, gap, \n",
    "                                          baseline, global_ordering)\n",
    "\n"
   ]
  },
  {
   "cell_type": "code",
   "execution_count": 15,
   "id": "f7617718",
   "metadata": {
    "scrolled": false
   },
   "outputs": [
    {
     "name": "stdout",
     "output_type": "stream",
     "text": [
      "pancan GCN\n",
      "Local\n"
     ]
    },
    {
     "data": {
      "image/png": "[encoded data removed]",
      "text/plain": [
       "<Figure size 500x200 with 1 Axes>"
      ]
     },
     "metadata": {},
     "output_type": "display_data"
    },
    {
     "data": {
      "image/png": "[encoded data removed]",
      "text/plain": [
       "<Figure size 500x200 with 1 Axes>"
      ]
     },
     "metadata": {},
     "output_type": "display_data"
    },
    {
     "data": {
      "image/png": "[encoded data removed]",
      "text/plain": [
       "<Figure size 500x200 with 1 Axes>"
      ]
     },
     "metadata": {},
     "output_type": "display_data"
    },
    {
     "data": {
      "image/png": "[encoded data removed]",
      "text/plain": [
       "<Figure size 500x200 with 1 Axes>"
      ]
     },
     "metadata": {},
     "output_type": "display_data"
    }
   ],
   "source": [
    "# Plots\n",
    "print(name, model_name)\n",
    "print(\"Local\")\n",
    "plt.figure(figsize=(5, 2))\n",
    "if n_feat % gap == 0:\n",
    "    plt.plot(np.arange(1, len(curve_PGI_l) + 1) * gap, curve_PGI_l)\n",
    "else:\n",
    "    plt.plot(np.concatenate((np.arange(1, len(curve_PGI_l)) * gap, np.array([n_feat]))), \n",
    "             curve_PGI_l)\n",
    "plt.ylim(-0.05, 1.05)\n",
    "plt.ylabel(\"Prediction gap\")\n",
    "plt.xlabel(\"Number of removed features\")\n",
    "plt.text(11000, 0.15, f\"PGI: {np.round(PGI_l * 100, 2)}\")\n",
    "plt.show()\n",
    "\n",
    "\n",
    "plt.figure(figsize=(5, 2))\n",
    "if n_feat % gap == 0:\n",
    "    plt.plot(np.arange(1, len(curve_PGU_l) + 1) * gap, curve_PGU_l)\n",
    "else:\n",
    "    plt.plot(np.concatenate((np.arange(1, len(curve_PGU_l)) * gap, np.array([n_feat]))), \n",
    "             curve_PGU_l)\n",
    "plt.ylim(-0.05, 1.05)\n",
    "plt.ylabel(\"Prediction gap\")\n",
    "plt.xlabel(\"Number of removed features\")\n",
    "plt.text(2000, 0.15, f\"PGU: {np.round(PGU_l * 100, 2)}\")\n",
    "plt.show()\n",
    "\n",
    "\n",
    "plt.figure(figsize=(5, 2))\n",
    "if n_feat % gap == 0:\n",
    "    plt.plot(np.arange(1, len(curve_PGI_g) + 1) * gap, curve_PGI_g)\n",
    "else:\n",
    "    plt.plot(np.concatenate((np.arange(1, len(curve_PGI_g)) * gap, np.array([n_feat]))), curve_PGI_g)\n",
    "plt.ylim(-0.05, 1.05)\n",
    "plt.ylabel(\"Prediction error\")\n",
    "plt.xlabel(\"Number of removed features\")\n",
    "plt.text(11000, 0.15, f\"PGI: {np.round(PGI_g * 100, 2)}\")\n",
    "name = os.path.join(save_path, save_name, \"figures\", f\"PGI_{set_name}\")\n",
    "#plt.savefig(name, bbox_inches='tight', dpi=150)\n",
    "plt.show()\n",
    "\n",
    "\n",
    "plt.figure(figsize=(5, 2))\n",
    "if n_feat % gap == 0:\n",
    "    plt.plot(np.arange(1, len(curve_PGU_g) + 1) * gap, curve_PGU_g)\n",
    "else:\n",
    "    plt.plot(np.concatenate((np.arange(1, len(curve_PGU_g)) * gap, np.array([n_feat]))), curve_PGU_g)\n",
    "plt.ylim(-0.05, 1.05)\n",
    "plt.ylabel(\"Prediction error\")\n",
    "plt.xlabel(\"Number of removed features\")\n",
    "plt.text(2000, 0.15, f\"PGU: {np.round(PGU_g * 100, 2)}\")\n",
    "name = os.path.join(save_path, save_name, \"figures\", f\"PGU_{set_name}\")\n",
    "# plt.savefig(name, bbox_inches='tight', dpi=150)\n",
    "plt.show()"
   ]
  },
  {
   "cell_type": "code",
   "execution_count": null,
   "id": "e98ee667",
   "metadata": {},
   "outputs": [],
   "source": []
  },
  {
   "cell_type": "code",
   "execution_count": null,
   "id": "3eb7f2ce",
   "metadata": {},
   "outputs": [],
   "source": []
  },
  {
   "cell_type": "code",
   "execution_count": null,
   "id": "92775415",
   "metadata": {},
   "outputs": [],
   "source": []
  },
  {
   "cell_type": "code",
   "execution_count": null,
   "id": "fa5c0885",
   "metadata": {},
   "outputs": [],
   "source": []
  },
  {
   "cell_type": "code",
   "execution_count": null,
   "id": "dc0f244b",
   "metadata": {},
   "outputs": [],
   "source": []
  },
  {
   "cell_type": "code",
   "execution_count": null,
   "id": "791e4839",
   "metadata": {},
   "outputs": [],
   "source": []
  },
  {
   "cell_type": "code",
   "execution_count": null,
   "id": "3e53d21b",
   "metadata": {},
   "outputs": [],
   "source": []
  },
  {
   "cell_type": "code",
   "execution_count": null,
   "id": "61d7c2fe",
   "metadata": {},
   "outputs": [],
   "source": []
  },
  {
   "cell_type": "code",
   "execution_count": null,
   "id": "a6f24c98",
   "metadata": {},
   "outputs": [],
   "source": []
  },
  {
   "cell_type": "code",
   "execution_count": null,
   "id": "5e637256",
   "metadata": {},
   "outputs": [],
   "source": []
  },
  {
   "cell_type": "code",
   "execution_count": null,
   "id": "e8bc2218",
   "metadata": {},
   "outputs": [],
   "source": []
  },
  {
   "cell_type": "code",
   "execution_count": null,
   "id": "16fd3988",
   "metadata": {},
   "outputs": [],
   "source": []
  },
  {
   "cell_type": "code",
   "execution_count": null,
   "id": "4a097d46",
   "metadata": {},
   "outputs": [],
   "source": []
  },
  {
   "cell_type": "code",
   "execution_count": null,
   "id": "34949c8e",
   "metadata": {},
   "outputs": [],
   "source": []
  },
  {
   "cell_type": "code",
   "execution_count": null,
   "id": "596a8ff8",
   "metadata": {},
   "outputs": [],
   "source": []
  }
 ],
 "metadata": {
  "kernelspec": {
   "display_name": "GraphNEx",
   "language": "python",
   "name": "graphnex"
  },
  "language_info": {
   "codemirror_mode": {
    "name": "ipython",
    "version": 3
   },
   "file_extension": ".py",
   "mimetype": "text/x-python",
   "name": "python",
   "nbconvert_exporter": "python",
   "pygments_lexer": "ipython3",
   "version": "3.7.11"
  }
 },
 "nbformat": 4,
 "nbformat_minor": 5
}
