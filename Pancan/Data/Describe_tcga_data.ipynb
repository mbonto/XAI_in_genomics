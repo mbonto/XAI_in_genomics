{
 "cells": [
  {
   "attachments": {},
   "cell_type": "markdown",
   "id": "e4b50051",
   "metadata": {},
   "source": [
    "# Brief introduction to TCGA"
   ]
  },
  {
   "attachments": {},
   "cell_type": "markdown",
   "id": "d40b0280",
   "metadata": {},
   "source": [
    "**The Cancer Genome Atlas (TCGA)** contains **DNA**, **RNA**, **protein** and **epigenetic** measurements of a **large number of human tumors**.\n",
    "\n",
    "Two versions of TCGA are available: legacy and Genomic Data Commons (GDC). **Legacy TCGA** is the original version. **GDC TCGA** is a standardized version of legacy TCGA. A few differences exist between both. *For instance, in legacy TCGA, genes are aligned on the hg19 human reference genome (GRCh37) whereas in GDC TCGA, they are aligned on the hg38 (GRCh38). In legacy TCGA, gene expression is reported as an estimated count by RSEM whereas in GDC TCGA, it is expressed in Fragments per Kilo base of transcript per Million mapped reads (FPKM). See [this publication](https://www.sciencedirect.com/science/article/pii/S2405471219302017?via%3Dihub) for more details.*\n",
    "\n",
    "[Access to legacy TCGA](https://portal.gdc.cancer.gov/legacy-archive/search/f)\n",
    "\n",
    "[Access to GDC TCGA](https://portal.gdc.cancer.gov/)\n",
    "\n",
    "\n",
    "[Website describing TCGA program](https://www.cancer.gov/about-nci/organization/ccg/research/structural-genomics/tcga)\n",
    "\n",
    "[Website describing the GDC pipeline](https://docs.gdc.cancer.gov/Data/Bioinformatics_Pipelines/Expression_mRNA_Pipeline/)"
   ]
  },
  {
   "attachments": {},
   "cell_type": "markdown",
   "id": "328b869c",
   "metadata": {},
   "source": [
    "### What is the Pan-Cancer Atlas?"
   ]
  },
  {
   "attachments": {},
   "cell_type": "markdown",
   "id": "c0e0ffa8",
   "metadata": {},
   "source": [
    "The **Pan-Cancer Atlas** is an initiative created to examine the **33 tumor types** of TCGA at the same time.\n",
    "- [Access to PanCan TCGA](https://gdc.cancer.gov/about-data/publications/pancanatlas)\n",
    "\n",
    "In my opinion, there are too few details about how PanCan was collected from TCGA. Here are some clues gathered from many sources.\n",
    "\n",
    "*The Pan-Cancer Atlas is a normalized version of legacy TCGA.*\n",
    "- Clue: In the key resources table of [this publication](https://www.sciencedirect.com/science/article/pii/S0092867418303027?via%3Dihub) from the initiative, the raw genomic and clinical data are on the legacy archive. Thus, genes should be aligned on hg19.\n",
    "\n",
    "*Gene expression data unit is “batch-corrected” “upper-quartile normalized RSEM”.*\n",
    "- Clue: This unit is mentioned in [the previous paper](https://www.sciencedirect.com/science/article/pii/S0092867418303027?via%3Dihub).\n",
    "\n",
    "*What does “batch-corrected” “upper-quartile normalized RSEM” mean?* \n",
    "- Clue for “batch-corrected”: the cancer experiments were conducted under different conditions. It is necessary to eliminate differences in the data related to the experimental setting to mitigate bias. Adjustments made by an algorithm called EB++ are detailed [here](https://www.synapse.org/#!Synapse:syn4976363). \n",
    "- Clue for RSEM: RSEM stands for RNA-Seq by Expectation Maximization (see the [reference paper](https://bmcbioinformatics.biomedcentral.com/articles/10.1186/1471-2105-12-323)). It is a method quantifying genes relative abundance from RNA-Seq data. What is the unit of gene expression with this method? Well, according to the paper, it is either the estimated number of fragments derived from a gene (raw count) or the estimated fraction of fragments a value between 0 and 1 (when multiplied by 10^6, it is called Transcripts per Million (TPM)).\n",
    "- Clue for “upper-quartile normalized”: the raw count is divided by the 75th percentile and multiplied by 1000 (as mentioned in [this forum](https://www.seqanswers.com/forum/bioinformatics/bioinformatics-aa/37526-whicn-normalization-methods-are-used-for-rnaseqv2-data-at-tcga?t=42911)).\n",
    "\n",
    "So, PanCan gene expression data may be raw count divided by the 75th percentile and multiplied by 1000. "
   ]
  },
  {
   "attachments": {},
   "cell_type": "markdown",
   "id": "27ef9970",
   "metadata": {},
   "source": [
    "**Be careful with gene expression samples**. In the gene expression file, some samples come from primary tumors but others come from various origins (normal solid tissue, metastatic, recurrent tumor)... This can be seen by downloading the TCGA PanCan dataset on [Xena browser](https://xenabrowser.net/) and looking at the sample_type phenotype. \n",
    "\n",
    "We only keep samples from primary tumors and primary blood derived cancer for this first study. In the gene expression file, sample_ID are similar to 'TCGA-DI-A2QY-01A-12R-A19W-07' or 'TCGA-DI-A2QY-11A-11R-A19W-07'. The 01 after the 'TCGA-DI-A2QY' indicates that the sample comes from a primary tissue. 02 for recurrent tumor, 03 for primary blood derived cancer  - peripheral blood, 05 for additional new primary, 06 is for metastatic, 07 for additional metastatic. The meaning of the barcode is detailed [here](https://docs.gdc.cancer.gov/Encyclopedia/pages/TCGA_Barcode/)."
   ]
  },
  {
   "attachments": {},
   "cell_type": "markdown",
   "id": "3ada32c2",
   "metadata": {},
   "source": [
    "### Citation\n",
    "\n",
    "When using any data from TCGA, acknowledge the TCGA Research Network in the acknowledgements section of your work. E.g. \"The results published or shown here are in whole or part based upon data generated by the TCGA Research Network: https://www.cancer.gov/tcga.\""
   ]
  },
  {
   "attachments": {},
   "cell_type": "markdown",
   "id": "e6b6ddc0",
   "metadata": {},
   "source": [
    "# Librairies"
   ]
  },
  {
   "cell_type": "code",
   "execution_count": 6,
   "id": "d98830f6",
   "metadata": {},
   "outputs": [],
   "source": [
    "import os\n",
    "import sys\n",
    "code_path = os.path.split(os.path.split(os.getcwd())[0])[0]\n",
    "sys.path.append(code_path)\n",
    "\n",
    "import json\n",
    "from setting import *\n",
    "from download_data import *\n",
    "from dataset import *\n",
    "from plots_and_stats import *\n",
    "from utils import *\n",
    "\n",
    "set_pyplot()"
   ]
  },
  {
   "attachments": {},
   "cell_type": "markdown",
   "id": "8c698b82",
   "metadata": {},
   "source": [
    "# Path"
   ]
  },
  {
   "cell_type": "code",
   "execution_count": 7,
   "id": "ad491e92",
   "metadata": {},
   "outputs": [],
   "source": [
    "name = 'pancan'\n",
    "save_path = get_save_path(name, code_path)\n",
    "data_path = get_data_path(name)"
   ]
  },
  {
   "attachments": {},
   "cell_type": "markdown",
   "id": "5e5a7e74",
   "metadata": {},
   "source": [
    "# Dataset"
   ]
  },
  {
   "attachments": {},
   "cell_type": "markdown",
   "id": "0a380047",
   "metadata": {},
   "source": [
    "### Format the dataset"
   ]
  },
  {
   "cell_type": "code",
   "execution_count": 8,
   "id": "9afd7361",
   "metadata": {},
   "outputs": [],
   "source": [
    "database = 'pancan'\n",
    "cancer = 'pancan'\n",
    "label_name = 'type'\n",
    "assert label_name in get_possible_classes(database, cancer), f\"The class has to be chosen within this list {get_possible_classes(database, cancer)}.\""
   ]
  },
  {
   "cell_type": "code",
   "execution_count": 9,
   "id": "492c16b2",
   "metadata": {},
   "outputs": [],
   "source": [
    "data = TCGA_dataset(data_path, database, cancer, label_name)"
   ]
  },
  {
   "attachments": {},
   "cell_type": "markdown",
   "id": "24bcbcca",
   "metadata": {},
   "source": [
    "### Describe the dataset"
   ]
  },
  {
   "cell_type": "code",
   "execution_count": 10,
   "id": "1d2528e0",
   "metadata": {},
   "outputs": [
    {
     "name": "stdout",
     "output_type": "stream",
     "text": [
      "The dataset contains 33 classes. Here are the classes and their respective number of samples:\n",
      "\tACC: 79\n",
      "\tBLCA: 408\n",
      "\tBRCA: 1095\n",
      "\tCESC: 304\n",
      "\tCHOL: 36\n",
      "\tCOAD: 449\n",
      "\tDLBC: 48\n",
      "\tESCA: 184\n",
      "\tGBM: 155\n",
      "\tHNSC: 520\n",
      "\tKICH: 66\n",
      "\tKIRC: 533\n",
      "\tKIRP: 290\n",
      "\tLAML: 173\n",
      "\tLGG: 515\n",
      "\tLIHC: 371\n",
      "\tLUAD: 515\n",
      "\tLUSC: 502\n",
      "\tMESO: 87\n",
      "\tOV: 305\n",
      "\tPAAD: 178\n",
      "\tPCPG: 179\n",
      "\tPRAD: 497\n",
      "\tREAD: 159\n",
      "\tSARC: 259\n",
      "\tSKCM: 103\n",
      "\tSTAD: 415\n",
      "\tTGCT: 134\n",
      "\tTHCA: 505\n",
      "\tTHYM: 120\n",
      "\tUCEC: 532\n",
      "\tUCS: 57\n",
      "\tUVM: 80\n",
      "In total, there are 9853 samples, each of them containing 16335 features.\n"
     ]
    }
   ],
   "source": [
    "describe_dataset(data)"
   ]
  },
  {
   "cell_type": "code",
   "execution_count": 11,
   "id": "beeb1367",
   "metadata": {},
   "outputs": [
    {
     "data": {
      "image/png": "[encoded data removed]",
      "text/plain": [
       "<Figure size 2000x300 with 1 Axes>"
      ]
     },
     "metadata": {},
     "output_type": "display_data"
    }
   ],
   "source": [
    "create_new_folder(save_path)\n",
    "plot_class_imbalance(data, label_name, save_path)"
   ]
  },
  {
   "cell_type": "code",
   "execution_count": 12,
   "id": "96bc992b",
   "metadata": {},
   "outputs": [],
   "source": [
    "# Each gene is represented by an expression such as 'Letters|Numbers'.\n",
    "# The letters are the name of the gene, the numbers are its Entrez Gene Id.\n",
    "\n",
    "# Code to find the index of a gene from its name.\n",
    "# np.argwhere(np.array([gene.split('|')[0] for gene in data.genes_IDs]) == 'ACPP')"
   ]
  },
  {
   "attachments": {},
   "cell_type": "markdown",
   "id": "ba488658",
   "metadata": {},
   "source": [
    "### Save the names of the genes to reuse them later"
   ]
  },
  {
   "cell_type": "code",
   "execution_count": 8,
   "id": "c162e306",
   "metadata": {},
   "outputs": [],
   "source": [
    "# json.dump(data.genes_IDs, open(os.path.join(save_path, \"genesIds.txt\",'w'))\n",
    "# genes_IDs = json.load(open(os.path.join(save_path, \"genesIds.txt\")))"
   ]
  }
 ],
 "metadata": {
  "kernelspec": {
   "display_name": "Perceiver0",
   "language": "python",
   "name": "python3"
  },
  "language_info": {
   "codemirror_mode": {
    "name": "ipython",
    "version": 3
   },
   "file_extension": ".py",
   "mimetype": "text/x-python",
   "name": "python",
   "nbconvert_exporter": "python",
   "pygments_lexer": "ipython3",
   "version": "3.10.11"
  }
 },
 "nbformat": 4,
 "nbformat_minor": 5
}
