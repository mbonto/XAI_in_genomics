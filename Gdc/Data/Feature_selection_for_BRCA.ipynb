{
 "cells": [
  {
   "cell_type": "markdown",
   "id": "88982602",
   "metadata": {},
   "source": [
    "Guide to download the BRCA dataset and test feature selection methods on it [github](https://github.com/mbonto/XAI_in_progress).\n",
    "\n",
    "setting.py\n",
    "- BRCA will be stored in a folder on your computer. Set the absolute path of this folder in the function set_path in setting.py.\n",
    "\n",
    "Gdc/Data\n",
    "- Download BRCA: go to the Gdc/Data folder and execute `python get_gdc.py`.\n",
    "- Discover the content of BRCA through two notebooks `Describe_gdc_tcga_data.ipynb` and `Discover_gdc_tcga_gene_expression_data.ipynb`.\n",
    "- `Feature_selection_for_BRCA.ipynb` explains how to load BRCA and how to execute a feature selection method from sklearn.\n",
    "\n",
    "\n"
   ]
  },
  {
   "cell_type": "markdown",
   "id": "c4d467ea",
   "metadata": {},
   "source": [
    "# Preprocessing and Feature selection"
   ]
  },
  {
   "cell_type": "markdown",
   "id": "c40d7598",
   "metadata": {},
   "source": [
    "We discussed about several preprocessing and feature selection methods. You can update the list with other methods that would be useful to try out.\n",
    "\n",
    "Preprocessing methods\n",
    "- Remove genes with low levels. Example: with < 5 counts in > 3 samples (or 60% of samples).\n",
    "    \n",
    "Feature selection methods\n",
    "- Variance\n",
    "- F test\n",
    "- Mutual information\n",
    "- Dimensionality reduction\n",
    "- Logistic regression\n",
    "- Regularized logistic regression (LASSO)\n"
   ]
  },
  {
   "cell_type": "markdown",
   "id": "f0f9b4d4",
   "metadata": {},
   "source": [
    "# Librairies"
   ]
  },
  {
   "cell_type": "code",
   "execution_count": 1,
   "id": "3fd102c1",
   "metadata": {},
   "outputs": [
    {
     "name": "stderr",
     "output_type": "stream",
     "text": [
      "/projects/GraphNEx/anaconda3/envs/GraphNEx/lib/python3.7/site-packages/tqdm/auto.py:22: TqdmWarning: IProgress not found. Please update jupyter and ipywidgets. See https://ipywidgets.readthedocs.io/en/stable/user_install.html\n",
      "  from .autonotebook import tqdm as notebook_tqdm\n"
     ]
    }
   ],
   "source": [
    "import os\n",
    "import sys\n",
    "code_path = os.path.split(os.path.split(os.getcwd())[0])[0]\n",
    "sys.path.append(code_path)\n",
    "import numpy as np\n",
    "import matplotlib.pyplot as plt\n",
    "from sklearn.feature_selection import f_classif, mutual_info_classif, chi2, VarianceThreshold\n",
    "from sklearn.metrics import jaccard_score\n",
    "from setting import *\n",
    "from utils import *\n",
    "from loader import *\n",
    "\n",
    "set_pyplot()"
   ]
  },
  {
   "cell_type": "markdown",
   "id": "d61760b6",
   "metadata": {},
   "source": [
    "# Path"
   ]
  },
  {
   "cell_type": "code",
   "execution_count": 2,
   "id": "4f6916a8",
   "metadata": {},
   "outputs": [],
   "source": [
    "name = 'BRCA'  \n",
    "save_path = get_save_path(name, code_path)\n",
    "data_path = get_data_path(name)"
   ]
  },
  {
   "cell_type": "markdown",
   "id": "fe831a21",
   "metadata": {},
   "source": [
    "# Useful functions"
   ]
  },
  {
   "cell_type": "markdown",
   "id": "260c4043",
   "metadata": {},
   "source": [
    "Sklearn methods are described [here](https://scikit-learn.org/stable/modules/feature_selection.html#univariate-feature-selection)."
   ]
  },
  {
   "cell_type": "code",
   "execution_count": 3,
   "id": "d97180b2",
   "metadata": {},
   "outputs": [],
   "source": [
    "# Univariate feature selection\n",
    "## Without labels\n",
    "def select_features_with_high_variance(X, threshold):\n",
    "    \"\"\"\n",
    "    Select all features whose variance is higher some threshold.\n",
    "    \"\"\"\n",
    "    alg = VarianceThreshold(threshold=threshold)\n",
    "    alg.fit(X)\n",
    "    return alg.variances_\n",
    "\n",
    "## With labels\n",
    "def select_features_with_F_test(X, y):\n",
    "    scores, p = f_classif(X, y)\n",
    "    # assert (np.argsort(scores) == np.argsort(-p)).all()\n",
    "    return scores\n",
    "\n",
    "def select_features_with_mutual_information(X, y): \n",
    "    return mutual_info_classif(X, y)\n",
    "\n",
    "def select_features_with_chi2_test(X, y):\n",
    "    scores, p = chi2(X, y)\n",
    "    # assert (np.argsort(scores) == np.argsort(-p)).all()\n",
    "    return scores"
   ]
  },
  {
   "cell_type": "markdown",
   "id": "6d536462",
   "metadata": {},
   "source": [
    "# Dataset"
   ]
  },
  {
   "cell_type": "code",
   "execution_count": 4,
   "id": "e194d1dc",
   "metadata": {},
   "outputs": [],
   "source": [
    "# Normalisation of the data\n",
    "# We assume that the unit of the gene expression is log2(raw count +1).\n",
    "## If normalize is True, several normalisations are applied to the data.\n",
    "## 1. The sum of the raw counts per sample is made equal to 10**6.\n",
    "## 2. The average value of each gene (computed on the training set) is removed from each gene. \n",
    "normalize = False\n",
    "\n",
    "# Load BRCA dataset\n",
    "X, X_test, y, y_test, n_class, n_feat, class_name, feat_name = load_dataset(data_path, name, normalize)\n",
    "\n",
    "# For PyTorch only: use load_dataloader to train/test a neural network.\n",
    "# train_loader, test_loader, n_class, n_feat, class_name, feat_name, transform, n_sample = load_dataloader(data_path, name, device)\n",
    "# print(f\"In our dataset, we have {n_class} classes and {n_sample} examples. Each example contains {n_feat} features.\")"
   ]
  },
  {
   "cell_type": "code",
   "execution_count": 5,
   "id": "56292729",
   "metadata": {},
   "outputs": [
    {
     "name": "stdout",
     "output_type": "stream",
     "text": [
      "Number of classes: 2.\n",
      "    Classes: ['Primary Tumor', 'Solid Tissue Normal'].\n",
      "Number of genes: 58274.\n",
      "Examples of names: ['ENSG00000000003.13', 'ENSG00000000005.5', 'ENSG00000000419.11'].\n",
      "Number of training examples: 726.\n",
      "Number of test examples: 484.\n"
     ]
    }
   ],
   "source": [
    "print(f\"Number of classes: {n_class}.\")\n",
    "print(f\"    Classes: {class_name}.\")\n",
    "print(f\"Number of genes: {X.shape[1]}.\")\n",
    "print(f\"Examples of names: {feat_name[:3]}.\")\n",
    "print(f\"Number of training examples: {X.shape[0]}.\")\n",
    "print(f\"Number of test examples: {X_test.shape[0]}.\")"
   ]
  },
  {
   "cell_type": "markdown",
   "id": "f626754a",
   "metadata": {},
   "source": [
    "# Feature selection methods"
   ]
  },
  {
   "cell_type": "code",
   "execution_count": 6,
   "id": "6f4dc1d2",
   "metadata": {
    "scrolled": true
   },
   "outputs": [],
   "source": [
    "# Parameter\n",
    "threshold = 0.1  # for \"select_features_with_high_variance\" only\n",
    "\n",
    "# Features ranked by scores by each feature selection method\n",
    "scores_var = select_features_with_high_variance(X, threshold)\n",
    "# scores_F = select_features_with_F_test(X, y)\n",
    "# scores_MI = select_features_with_mutual_information(X, y)\n",
    "# scores_chi2 = select_features_with_chi2_test(X, y)"
   ]
  },
  {
   "cell_type": "code",
   "execution_count": 7,
   "id": "1357478f",
   "metadata": {},
   "outputs": [],
   "source": [
    "# Load the features ranked by IG for all BRCA samples\n",
    "model_name = \"MLP\"  # \"MLP\" or \"LR\"\n",
    "set_name = \"train\"\n",
    "exp = 1  # exp between 1 and 10\n",
    "scores_IG = np.load(os.path.join(\"scores\", f\"{model_name}_{exp}_{set_name}_avg.npy\"))"
   ]
  },
  {
   "cell_type": "markdown",
   "id": "0483993e",
   "metadata": {},
   "source": [
    "# Overlap between the various methods"
   ]
  },
  {
   "cell_type": "code",
   "execution_count": 8,
   "id": "a120d94d",
   "metadata": {},
   "outputs": [],
   "source": [
    "scores1 = scores_IG.copy()\n",
    "scores2 = scores_var.copy()\n",
    "\n",
    "order1 = np.argsort(-scores1)\n",
    "order2 = np.argsort(-scores2)"
   ]
  },
  {
   "cell_type": "code",
   "execution_count": 9,
   "id": "3b38858d",
   "metadata": {},
   "outputs": [],
   "source": [
    "# Calculate the Jaccard score between two orders\n",
    "n_args = [1, 10, 100, 1000, 10000]\n",
    "avg_jaccard_scores = []\n",
    "\n",
    "for n in n_args:\n",
    "    set1 = set(order1[:n])\n",
    "    set2 = set(order2[:n])\n",
    "    avg_jaccard_scores.append(len(list(set1.intersection(set2))) / n)"
   ]
  },
  {
   "cell_type": "code",
   "execution_count": 10,
   "id": "485dc3dc",
   "metadata": {},
   "outputs": [
    {
     "data": {
      "image/png": "[encoded data removed]",
      "text/plain": [
       "<Figure size 1500x300 with 1 Axes>"
      ]
     },
     "metadata": {},
     "output_type": "display_data"
    }
   ],
   "source": [
    "# Show the Jaccard scores\n",
    "plt.figure(figsize=(15, 3))\n",
    "plt.plot(n_args, avg_jaccard_scores, 'x-')\n",
    "plt.xlabel(\"Number of variables\")\n",
    "plt.ylabel(f\"Average Jaccard score\")\n",
    "plt.show()"
   ]
  },
  {
   "cell_type": "code",
   "execution_count": null,
   "id": "32ebcc18",
   "metadata": {},
   "outputs": [],
   "source": []
  },
  {
   "cell_type": "code",
   "execution_count": null,
   "id": "299e7a08",
   "metadata": {},
   "outputs": [],
   "source": []
  },
  {
   "cell_type": "code",
   "execution_count": null,
   "id": "41fceba3",
   "metadata": {},
   "outputs": [],
   "source": []
  }
 ],
 "metadata": {
  "kernelspec": {
   "display_name": "GraphNEx",
   "language": "python",
   "name": "graphnex"
  },
  "language_info": {
   "codemirror_mode": {
    "name": "ipython",
    "version": 3
   },
   "file_extension": ".py",
   "mimetype": "text/x-python",
   "name": "python",
   "nbconvert_exporter": "python",
   "pygments_lexer": "ipython3",
   "version": "3.7.11"
  }
 },
 "nbformat": 4,
 "nbformat_minor": 5
}
