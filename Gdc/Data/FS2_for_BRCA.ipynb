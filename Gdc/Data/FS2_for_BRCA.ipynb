{
 "cells": [
  {
   "attachments": {},
   "cell_type": "markdown",
   "metadata": {},
   "source": [
    "# Addition and adaptation of Myriam's `Feature_selection_for_BRCA.pynb` \n",
    "State of the art review and additional Feature selection and visualization methods computation\n",
    "(by Anaïs)\n",
    "\n",
    "## State of the art of feature selection methods\n",
    "### Relevant papers selection\n",
    "- [Feature Selection: A Review and Comparative Study - 2022](https://www.e3s-conferences.org/articles/e3sconf/pdf/2022/18/e3sconf_icies2022_01046.pdf)\n",
    "- [A review of feature selection methods with applications - 2015](https://bib.irb.hr/datoteka/763354.MIPRO_2015_JovicBrkicBogunovic.pdf)\n",
    "- [Feature Selection for Classification: A Review - 2014](https://www.cse.msu.edu/~tangjili/publication/feature_selection_for_classification.pdf)\n",
    "- [Feature Selection: A Review and Comparative Study - 2022](https://www.e3s-conferences.org/articles/e3sconf/pdf/2022/18/e3sconf_icies2022_01046.pdf)\n",
    "- [Feature selection methods and genomic big data: a systematic review - 2019](https://journalofbigdata.springeropen.com/articles/10.1186/s40537-019-0241-0) \n",
    "- [A Review of Feature Selection Methods for Machine Learning-Based Disease Risk Prediction - 2022](https://www.frontiersin.org/articles/10.3389/fbinf.2022.927312/full)</br> This one also present a nice discussion (we can take inspiration from) on removing redundancy but keeping interesting correlated features (see paragraph: \"The Problem of Feature Redundancy and Feature Interaction in SNP Genotype Dataset\").\n",
    "\n",
    "- & Additional ressource (*Myriam*): [Sklearn methods description](https://scikit-learn.org/stable/modules/feature_selection.html#univariate-feature-selection).\n",
    "\n",
    "They provide consistant useful information and summary with pro and cons of each methods.\n",
    "\n",
    "\n"
   ]
  },
  {
   "attachments": {},
   "cell_type": "markdown",
   "metadata": {},
   "source": [
    "### In brief \n",
    "*Info from the selection, you can look at each paper specific papers for more pro/cons and examples of each method*\n",
    "\n",
    "Relevant mention before focusing on main methods:</br>\n",
    "\"**Dimensionality reduction** is one of the most popular techniques to remove noisy (i.e. irrelevant) and redundant features. Dimensionality reduction techniques can be categorized mainly into feature extraction and feature selection.\"</br>\n",
    "*Examples:* PCA with features contribution score to the first PC, Variance threshold</br>\n",
    "*Examples genomic work:* Sorting genome"
   ]
  },
  {
   "attachments": {},
   "cell_type": "markdown",
   "metadata": {},
   "source": [
    "Main strategies to get more discriminative features (for classification/regression):</br>\n",
    "**3 major method types:**\n",
    "- **filters** (preprocessing - independant from classifier )\n",
    "    - *Pro:* fast, scalable, generalizable (more than wrapper), reduce overfitting risk\n",
    "    - *Con:* not efficient, feature dependencies not modeled (univariate) \n",
    "    - *Examples:* \n",
    "        - Univariate: Chi-squared test, Fisher's exact test, Pearson correlation, information gain, t-test, Mann-Whitney U test, mutual information\n",
    "        - Multivariate: Fast correlation-based filter, relief-based algorithms\n",
    "    - *Examples genomic work:* mRMR, PFBP "
   ]
  },
  {
   "attachments": {},
   "cell_type": "markdown",
   "metadata": {},
   "source": [
    "- **Wrappers** (predictive model trained along the selection - include classification performance of the used classifier, such as accuracy, within the evaluation of the feature selection)\n",
    "    - *Pro:* efficient, take into account interactions between features, identify feature interactions of higher order, better performance than filters, model interaction with classifier\n",
    "    - *Con:* computationally  expensive (even worse for big dataset) in terms of models complexity and resources requirements, slower than filters and embedded methods, more prone to overfiting, selected features classifier dependent (bias toward modelling algorithm)\n",
    "    - *Examples:*  Support Vector Machine Recursive Feature Elimination SVM-RFE, Sequential Forward Selection SFS, Sequential forward and backward selection, randomized hill climbing, recursive feature elimination\n",
    "    - *Examples genomic work:* MINT, Boruta random forrest, MIMIC FS, FIFS"
   ]
  },
  {
   "attachments": {},
   "cell_type": "markdown",
   "metadata": {},
   "source": [
    "- **Embedded** (do not separate the learning from the feature selection part, conducted and optimized during the classification process)\n",
    "    - *Pro:* advantages of filters and wrappers= fast and efficient (classify dependencies with less computing difficulty than wrapper), accurate, take into account interaction between features, model feature dependencies, model interaction with classifier\n",
    "    - *Con:* slower than filter, selected features classifier dependent, learning algorithm specific\n",
    "    - *Examples:* SVM, LASSO (L1-Regularization) or elastic net regression, Bridge regularization, RIDGE (L2-Regularization), random forest\n",
    "    - *Examples genomic work:* Random forest Naïve Bayes, Cox-regression (TCGA), mRMR IFS, ROSEFW-RF "
   ]
  },
  {
   "attachments": {},
   "cell_type": "markdown",
   "metadata": {},
   "source": [
    "- **Other**: \n",
    "\t- **hybrid** = multiple consecutive FS methods\n",
    "\t- **ensemble** = aggregate of feature subsets of diverse base classifiers\n",
    "\t- **integrative** = use of external knowledge"
   ]
  },
  {
   "attachments": {},
   "cell_type": "markdown",
   "metadata": {},
   "source": [
    "**Remarks:**</br>\n",
    "- *Feature Selection for Classification: A Review* specify that the filter/wrappers/embedded methods work for **flat features** where features are assumed independent. (but, keep in mind that some papers mention the methods can detect features dependencies). We need different methods for structured features like graph (or group or set). It can be used as a **pro for our paper method that works for both flat and graph-structured features**.\n",
    "\n",
    "- **Sklearn** Recursive feature elimination and Feature selection using SelectFromModel methods seems to be wrappers and embedded methods, difficult to distinguish which is which</br>"
   ]
  },
  {
   "attachments": {},
   "cell_type": "markdown",
   "metadata": {},
   "source": [
    "## Methods to implement for the paper\n",
    "- Try the sklearn algorithms quick to implement\n",
    "\n",
    "- Ideally test at least one dimension reduction, one filter, one wrapper, one embedded\n",
    "    - One dim reduction method standard: PCA with contribution first PC\n",
    "    - Filter: Chi-squared test - Fisher test - Pearson correlation - Mutual information\n",
    "    - Wrapper: ? -- more specific, need development of a model to test subset of features while training -- Maybe SVM can be counted as wrapper too, sklearn methods difficult to distinguish between wrapper and embedded\n",
    "    - Embedded: Random forest - Lasso \n",
    "\n"
   ]
  },
  {
   "attachments": {},
   "cell_type": "markdown",
   "metadata": {},
   "source": [
    "## Problem running XAI-in-progress code\n",
    "\n",
    "- Could download the data and run the code\n",
    "- Could not generate the simulation data (neither SIMU1 nor SIMU2), see error: `"
   ]
  },
  {
   "cell_type": "code",
   "execution_count": null,
   "metadata": {},
   "outputs": [],
   "source": [
    "Genes over-expressed in a group containing about 10.000000000000002 variables have a drawing probability in this group higher than 0.009999999999999998.\n",
    "\n",
    "Traceback (most recent call last):\n",
    "\n",
    "  File \"/nfs_home/haget/XAI_in_progress/Simulation/Data/get_simu.py\", line 32, in <module>\n",
    "\n",
    "    alpha, eta, beta, proportion, n_gene, n_pathway, n_class, useful_paths, useful_genes = return_parameters(name)\n",
    "\n",
    "  File \"/nfs_home/haget/XAI_in_progress/Simulation/Data/simulate_data.py\", line 177, in return_parameters\n",
    "\n",
    "    eta[P], beta[P] = generate_eta_beta(n_pathway, sparsity, n_gene, case=case)[P]\n",
    "\n",
    "TypeError: tuple indices must be integers or slices, not str"
   ]
  },
  {
   "attachments": {},
   "cell_type": "markdown",
   "metadata": {},
   "source": [
    "- Could not run *\"Discover_gdc_tcga_gene_expression_data.ipynb\"* because of no function ```get_X_y```"
   ]
  },
  {
   "attachments": {},
   "cell_type": "markdown",
   "metadata": {},
   "source": [
    "## Feature selection implementation\n",
    "\n",
    "### Librairies"
   ]
  },
  {
   "cell_type": "code",
   "execution_count": 3,
   "metadata": {},
   "outputs": [],
   "source": [
    "import os\n",
    "import sys\n",
    "code_path = os.path.split(os.path.split(os.getcwd())[0])[0]\n",
    "sys.path.append(code_path)\n",
    "import numpy as np\n",
    "import matplotlib.pyplot as plt\n",
    "from sklearn.feature_selection import f_classif, mutual_info_classif, chi2, VarianceThreshold\n",
    "from sklearn.metrics import jaccard_score\n",
    "from setting import *\n",
    "from utils import *\n",
    "from loader import *\n",
    "\n",
    "set_pyplot()"
   ]
  },
  {
   "attachments": {},
   "cell_type": "markdown",
   "metadata": {},
   "source": [
    "### Path"
   ]
  },
  {
   "cell_type": "code",
   "execution_count": 4,
   "metadata": {},
   "outputs": [],
   "source": [
    "name = 'BRCA'  \n",
    "save_path = get_save_path(name, code_path)\n",
    "data_path = get_data_path(name)"
   ]
  },
  {
   "attachments": {},
   "cell_type": "markdown",
   "metadata": {},
   "source": [
    "### Useful functions\n",
    "[sklearn functions description](https://scikit-learn.org/stable/modules/feature_selection.html#univariate-feature-selection).\n",
    "\n",
    "#### Dimension reduction\n",
    "1. Variance threshold\n",
    "2. PCA"
   ]
  },
  {
   "cell_type": "code",
   "execution_count": 5,
   "metadata": {},
   "outputs": [],
   "source": [
    "# Univariate feature selection\n",
    "## Without labels\n",
    "def select_features_with_high_variance(X, threshold):\n",
    "    \"\"\"\n",
    "    Select all features whose variance is higher some threshold.\n",
    "    \"\"\"\n",
    "    alg = VarianceThreshold(threshold=threshold)\n",
    "    alg.fit(X)\n",
    "    return alg.variances_"
   ]
  },
  {
   "cell_type": "code",
   "execution_count": 6,
   "metadata": {},
   "outputs": [],
   "source": [
    "# PCA\n",
    "# TO CODE"
   ]
  },
  {
   "attachments": {},
   "cell_type": "markdown",
   "metadata": {},
   "source": [
    "#### Filters\n",
    "1. Fisher test\n",
    "2. Mutual information\n",
    "3. Chi-squared test \n",
    "4. Pearson correlation --> No, cf. used for regression and not classification"
   ]
  },
  {
   "cell_type": "code",
   "execution_count": 7,
   "metadata": {},
   "outputs": [],
   "source": [
    "# Univariate feature selection\n",
    "## With labels\n",
    "def select_features_with_F_test(X, y):\n",
    "    scores, p = f_classif(X, y)\n",
    "    # assert (np.argsort(scores) == np.argsort(-p)).all()\n",
    "    return scores\n",
    "\n",
    "def select_features_with_mutual_information(X, y): \n",
    "    return mutual_info_classif(X, y)\n",
    "\n",
    "def select_features_with_chi2_test(X, y):\n",
    "    scores, p = chi2(X, y)\n",
    "    # assert (np.argsort(scores) == np.argsort(-p)).all()\n",
    "    return scores"
   ]
  },
  {
   "attachments": {},
   "cell_type": "markdown",
   "metadata": {},
   "source": [
    "#### Wrappers / embedded\n",
    "1. Recursive feature elimination RFE\n",
    "2. L1-based \n",
    "3. Tree-based\n"
   ]
  },
  {
   "cell_type": "code",
   "execution_count": 8,
   "metadata": {},
   "outputs": [],
   "source": [
    "# RFE\n",
    "# TO CODE"
   ]
  },
  {
   "cell_type": "code",
   "execution_count": 9,
   "metadata": {},
   "outputs": [],
   "source": [
    "# L1-based\n",
    "# TO CODE "
   ]
  },
  {
   "cell_type": "code",
   "execution_count": 10,
   "metadata": {},
   "outputs": [],
   "source": [
    "# Tree-based \n",
    "# TO CODE"
   ]
  },
  {
   "attachments": {},
   "cell_type": "markdown",
   "metadata": {},
   "source": [
    "### Dataset"
   ]
  },
  {
   "cell_type": "code",
   "execution_count": 11,
   "metadata": {},
   "outputs": [],
   "source": [
    "# Normalisation of the data\n",
    "# We assume that the unit of the gene expression is log2(raw count +1).\n",
    "## If normalize is True, several normalisations are applied to the data.\n",
    "## 1. The sum of the raw counts per sample is made equal to 10**6.\n",
    "## 2. The average value of each gene (computed on the training set) is removed from each gene. \n",
    "normalize = False\n",
    "\n",
    "# Load BRCA dataset\n",
    "X, X_test, y, y_test, n_class, n_feat, class_name, feat_name = load_dataset(data_path, name, normalize)\n",
    "\n",
    "# For PyTorch only: use load_dataloader to train/test a neural network.\n",
    "# train_loader, test_loader, n_class, n_feat, class_name, feat_name, transform, n_sample = load_dataloader(data_path, name, device)\n",
    "# print(f\"In our dataset, we have {n_class} classes and {n_sample} examples. Each example contains {n_feat} features.\")"
   ]
  },
  {
   "cell_type": "code",
   "execution_count": 12,
   "metadata": {},
   "outputs": [
    {
     "name": "stdout",
     "output_type": "stream",
     "text": [
      "Number of classes: 2.\n",
      "    Classes: ['Primary Tumor', 'Solid Tissue Normal'].\n",
      "Number of genes: 58274.\n",
      "Examples of names: ['ENSG00000000003.13', 'ENSG00000000005.5', 'ENSG00000000419.11'].\n",
      "Number of training examples: 726.\n",
      "Number of test examples: 484.\n"
     ]
    }
   ],
   "source": [
    "print(f\"Number of classes: {n_class}.\")\n",
    "print(f\"    Classes: {class_name}.\")\n",
    "print(f\"Number of genes: {X.shape[1]}.\")\n",
    "print(f\"Examples of names: {feat_name[:3]}.\")\n",
    "print(f\"Number of training examples: {X.shape[0]}.\")\n",
    "print(f\"Number of test examples: {X_test.shape[0]}.\")"
   ]
  },
  {
   "attachments": {},
   "cell_type": "markdown",
   "metadata": {},
   "source": [
    "### Feature selection methods"
   ]
  },
  {
   "cell_type": "code",
   "execution_count": 13,
   "metadata": {},
   "outputs": [],
   "source": [
    "# Parameter\n",
    "threshold = 0.1  # for \"select_features_with_high_variance\" only\n",
    "\n",
    "# Features ranked by scores by each feature selection method\n",
    "scores_var = select_features_with_high_variance(X, threshold)\n",
    "# scores_F = select_features_with_F_test(X, y)\n",
    "# scores_MI = select_features_with_mutual_information(X, y)\n",
    "# scores_chi2 = select_features_with_chi2_test(X, y)"
   ]
  },
  {
   "cell_type": "code",
   "execution_count": 14,
   "metadata": {},
   "outputs": [],
   "source": [
    "# TO COMPLETE WITH NEW METHODS"
   ]
  },
  {
   "cell_type": "code",
   "execution_count": 15,
   "metadata": {},
   "outputs": [],
   "source": [
    "# Load the features ranked by IG for all BRCA samples\n",
    "model_name = \"MLP\"  # \"MLP\" or \"LR\"\n",
    "set_name = \"train\"\n",
    "exp = 1  # exp between 1 and 10\n",
    "scores_IG = np.load(os.path.join(\"scores\", f\"{model_name}_{exp}_{set_name}_avg.npy\"))"
   ]
  },
  {
   "attachments": {},
   "cell_type": "markdown",
   "metadata": {},
   "source": [
    "### Overlap between the various models"
   ]
  },
  {
   "cell_type": "code",
   "execution_count": 16,
   "metadata": {},
   "outputs": [],
   "source": [
    "scores1 = scores_IG.copy()\n",
    "scores2 = scores_var.copy()\n",
    "\n",
    "order1 = np.argsort(-scores1)\n",
    "order2 = np.argsort(-scores2)"
   ]
  },
  {
   "cell_type": "code",
   "execution_count": 17,
   "metadata": {},
   "outputs": [],
   "source": [
    "# Calculate the Jaccard score between two orders\n",
    "n_args = [1, 10, 100, 1000, 10000]\n",
    "avg_jaccard_scores = []\n",
    "\n",
    "for n in n_args:\n",
    "    set1 = set(order1[:n])\n",
    "    set2 = set(order2[:n])\n",
    "    avg_jaccard_scores.append(len(list(set1.intersection(set2))) / n)"
   ]
  },
  {
   "cell_type": "code",
   "execution_count": 18,
   "metadata": {},
   "outputs": [
    {
     "data": {
      "image/png": "[encoded data removed]",
      "text/plain": [
       "<Figure size 1500x300 with 1 Axes>"
      ]
     },
     "metadata": {},
     "output_type": "display_data"
    }
   ],
   "source": [
    "# Show the Jaccard scores\n",
    "plt.figure(figsize=(15, 3))\n",
    "plt.plot(n_args, avg_jaccard_scores, 'x-')\n",
    "plt.xlabel(\"Number of variables\")\n",
    "plt.ylabel(f\"Average Jaccard score\")\n",
    "plt.show()"
   ]
  },
  {
   "attachments": {},
   "cell_type": "markdown",
   "metadata": {},
   "source": [
    "### Barplots for visual representation of score (dis)similarity for each features"
   ]
  },
  {
   "cell_type": "code",
   "execution_count": 19,
   "metadata": {},
   "outputs": [],
   "source": [
    "# TO CODE similar to neuroscience brain region code"
   ]
  },
  {
   "cell_type": "code",
   "execution_count": null,
   "metadata": {},
   "outputs": [],
   "source": []
  }
 ],
 "metadata": {
  "kernelspec": {
   "display_name": "graphnex-gnn",
   "language": "python",
   "name": "python3"
  },
  "language_info": {
   "codemirror_mode": {
    "name": "ipython",
    "version": 3
   },
   "file_extension": ".py",
   "mimetype": "text/x-python",
   "name": "python",
   "nbconvert_exporter": "python",
   "pygments_lexer": "ipython3",
   "version": "3.10.11"
  },
  "orig_nbformat": 4
 },
 "nbformat": 4,
 "nbformat_minor": 2
}
